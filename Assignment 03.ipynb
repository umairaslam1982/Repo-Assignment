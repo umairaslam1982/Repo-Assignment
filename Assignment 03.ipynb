{
 "cells": [
  {
   "cell_type": "markdown",
   "id": "fb465408-38b2-4966-b6b4-31c45bb94127",
   "metadata": {},
   "source": [
    "### Q no 1  Bank Loan Eligibility Creteria "
   ]
  },
  {
   "cell_type": "code",
   "execution_count": 2,
   "id": "aff75b72-f56c-4832-8d0d-41e2a158f17e",
   "metadata": {},
   "outputs": [
    {
     "name": "stdin",
     "output_type": "stream",
     "text": [
      "Enter your age:  41\n",
      "Enter your credit score:  789\n",
      "Enter your monhly income:  3569\n"
     ]
    },
    {
     "name": "stdout",
     "output_type": "stream",
     "text": [
      "Congratulation ! You are eiligible for loan.\n"
     ]
    }
   ],
   "source": [
    "# Input\n",
    "age = int(input(\"Enter your age: \"))\n",
    "credit_score = int(input(\"Enter your credit score: \"))\n",
    "income = float(input(\"Enter your monhly income: \"))\n",
    "\n",
    "# loan eiligibilty criteria\n",
    "min_age =18\n",
    "max_age = 65\n",
    "min_credit_score = 650\n",
    "min_income = 2000.0\n",
    "\n",
    "# Eligibility check\n",
    "if age < min_age or age > max_age:\n",
    "    print(\"Not eiligible for loan: Age must be 18 and 65.\")\n",
    "elif credit_score < min_credit_score:\n",
    "    print(\"Not eligible for loan : Credit score must be at least 650.\")\n",
    "elif income < min_income:\n",
    "    print(\"Not eiligible for loan : Monthly income must be at least $ 2000.\")\n",
    "else:\n",
    "    print(\"Congratulation ! You are eiligible for loan.\")"
   ]
  },
  {
   "cell_type": "code",
   "execution_count": 4,
   "id": "08c5395c-4bfd-43b1-b93c-184ddc75a157",
   "metadata": {},
   "outputs": [
    {
     "ename": "SyntaxError",
     "evalue": "'return' outside function (527269203.py, line 21)",
     "output_type": "error",
     "traceback": [
      "\u001b[1;36m  Cell \u001b[1;32mIn[4], line 21\u001b[1;36m\u001b[0m\n\u001b[1;33m    return \"Not eiligible: Age must be between 18 and 65.\"\u001b[0m\n\u001b[1;37m    ^\u001b[0m\n\u001b[1;31mSyntaxError\u001b[0m\u001b[1;31m:\u001b[0m 'return' outside function\n"
     ]
    }
   ],
   "source": [
    "def check_loan_eilibility(age, credit_score_income):\n",
    "    \"\"\"\n",
    "Check loan eiligibilty based on age, credit score, income:\n",
    "\n",
    "Parameters:\n",
    "    age(int): The age of person\n",
    "    credit_score (int): The credit score of the person\n",
    "    income (float): The monthly income of the person\n",
    "\n",
    "Returns:\n",
    "    str: A massage indicating wheather the person is eiligible or not\n",
    "    \"\"\"\n",
    "# eiligibility criteria\n",
    "minimun_age = 18\n",
    "maximum_age = 65\n",
    "minimum_credit_score = 650\n",
    "minimum_income = 2000.0\n",
    "\n",
    "# check age eiligibility\n",
    "if age < minimum_age or  age > maximum_age:\n",
    "    return \"Not eiligible: Age must be between 18 and 65.\"\n",
    "\n",
    "# check credit score eiligibility \n",
    "if credit_score < minimun_credit_score:\n",
    "    return \"Not eiligible: Credit score must be atleast 650.\"\n",
    "\n",
    "# check income eiligibility \n",
    "if income <minimun_income:\n",
    "    return \"Not eiligible: Income must be atleast $2000 per month.\"\n",
    "return \"Eiligible for loan\""
   ]
  },
  {
   "cell_type": "markdown",
   "id": "68a1f716-0b46-48ce-92b1-5739ca0e0adf",
   "metadata": {},
   "source": [
    "### Q No 2 Age Check & Work Experience Program"
   ]
  },
  {
   "cell_type": "code",
   "execution_count": 8,
   "id": "d5823bba-1f8d-459f-935b-cb75baba0ff5",
   "metadata": {},
   "outputs": [
    {
     "name": "stdin",
     "output_type": "stream",
     "text": [
      "Enter your age:  41\n",
      "Enter yours years of work experience:  15\n"
     ]
    },
    {
     "name": "stdout",
     "output_type": "stream",
     "text": [
      "you are of working age.\n",
      "You have senior level career professional\n"
     ]
    }
   ],
   "source": [
    "age = int(input(\"Enter your age: \"))\n",
    "work_experience = int(input(\"Enter yours years of work experience: \"))\n",
    "\n",
    "#check if the age and work experience are valid\n",
    "if age < 0 or work_experience < 0:\n",
    "    print(\"Age and work experience cannot be negitive.\")\n",
    "else:\n",
    "    # determine age catagory \n",
    "    if age < 18:\n",
    "        print(\"You are young to work.\")\n",
    "    elif age < 65:\n",
    "        print(\"you are of working age.\")\n",
    "\n",
    "# check work experience \n",
    "if work_experience == 0:\n",
    "    print(\"You are just starting your career\")\n",
    "elif work_experience < 5:\n",
    "    print(\"You are an early career professional.\")\n",
    "elif work_experience < 10:\n",
    "    print(\"You have a mid level career professional\")\n",
    "elif work_experience < 15:\n",
    "    print(\"You have senior level career professional\")\n",
    "elif work_experience < 20:\n",
    "    print(\"You have senior level career professional\")\n",
    "else:\n",
    "    print(\"You are highly experienced and many be retired soon\")"
   ]
  },
  {
   "cell_type": "markdown",
   "id": "c956cfd2-a209-4828-a82d-953afae18e32",
   "metadata": {},
   "source": [
    "### Q No 3(a) Print Memory Address "
   ]
  },
  {
   "cell_type": "code",
   "execution_count": 11,
   "id": "9ae151f8-c4c4-4439-a025-69f23772b6bd",
   "metadata": {},
   "outputs": [
    {
     "name": "stdout",
     "output_type": "stream",
     "text": [
      "memory address of a: (id(a))\n",
      "memory address of b: (id(b))\n",
      "memory address of c: (id(c))\n"
     ]
    }
   ],
   "source": [
    "a = 10\n",
    "b = 20\n",
    "c = 30\n",
    "\n",
    "print(f\"memory address of a: (id(a))\")\n",
    "print(f\"memory address of b: (id(b))\")\n",
    "print(f\"memory address of c: (id(c))\")"
   ]
  },
  {
   "cell_type": "code",
   "execution_count": 13,
   "id": "2a7e991a-545d-4102-ad5a-dc5a29138250",
   "metadata": {},
   "outputs": [
    {
     "name": "stdout",
     "output_type": "stream",
     "text": [
      "140730708473368 140730708473368\n"
     ]
    }
   ],
   "source": [
    "x = 100\n",
    "y = 100\n",
    "print(id(x), id(y))  # Likely the same becuase python reuse small imtegers."
   ]
  },
  {
   "cell_type": "code",
   "execution_count": 19,
   "id": "a1a05c91-f37d-4618-b3b9-da64af904343",
   "metadata": {},
   "outputs": [
    {
     "name": "stdout",
     "output_type": "stream",
     "text": [
      "x = y\n",
      "140730708473368\n",
      "140730708473368\n"
     ]
    }
   ],
   "source": [
    "x = y\n",
    "print('x = y')\n",
    "print(id(x))\n",
    "print(id(y))"
   ]
  },
  {
   "cell_type": "markdown",
   "id": "5ec274b9-906f-4b19-a581-ba70fad1806b",
   "metadata": {},
   "source": [
    "#### Q No 3 (b) Memory Size, Append and Least memory Size"
   ]
  },
  {
   "cell_type": "markdown",
   "id": "e640bf9d-b3b5-4012-b56c-d4e9511bbe10",
   "metadata": {},
   "source": [
    "## Memory Size of List"
   ]
  },
  {
   "cell_type": "code",
   "execution_count": 6,
   "id": "883a6cca-e485-4bef-84e3-3ef6c3b3cf81",
   "metadata": {},
   "outputs": [
    {
     "name": "stdout",
     "output_type": "stream",
     "text": [
      "88\n",
      "28\n",
      "28\n",
      "28\n"
     ]
    }
   ],
   "source": [
    "import sys\n",
    "my_list = [1,2,3]\n",
    "print(sys.getsizeof(my_list))  # Overhead of the list itself\n",
    "for item in my_list:\n",
    "    print(sys.getsizeof(item)) # Size of each item"
   ]
  },
  {
   "cell_type": "markdown",
   "id": "3bde1f6f-d7a2-4af4-be02-a68bb9dacaef",
   "metadata": {},
   "source": [
    "#### Append to a List"
   ]
  },
  {
   "cell_type": "code",
   "execution_count": 10,
   "id": "d74952ab-4d20-4b0c-a592-bdafa1248a39",
   "metadata": {},
   "outputs": [
    {
     "name": "stdout",
     "output_type": "stream",
     "text": [
      "[1, 2, 3, 4]\n"
     ]
    }
   ],
   "source": [
    "my_list = [1, 2, 3]\n",
    "my_list.append(4)\n",
    "print(my_list)  # Output [1,2,3,4]"
   ]
  },
  {
   "cell_type": "markdown",
   "id": "c3aa10f9-f78f-4fbf-97b1-d37d30b3c6f3",
   "metadata": {},
   "source": [
    "#### Data Type of Key Elements"
   ]
  },
  {
   "cell_type": "code",
   "execution_count": 19,
   "id": "3d577616-4444-4824-8c40-5c0fbe56e7ce",
   "metadata": {},
   "outputs": [
    {
     "name": "stdout",
     "output_type": "stream",
     "text": [
      "<class 'int'>\n",
      "<class 'str'>\n",
      "<class 'float'>\n",
      "<class 'list'>\n",
      "<class 'dict'>\n"
     ]
    }
   ],
   "source": [
    "my_list = [1, \"hello\", 3.14, [1, 2, 3], {\"key\": \"value\"}]\n",
    "print(type(my_list[0]))  # int\n",
    "print(type(my_list[1]))  # str\n",
    "print(type(my_list[2]))  # float\n",
    "print(type(my_list[3]))  # list\n",
    "print(type(my_list[4]))  # dict\n"
   ]
  },
  {
   "cell_type": "markdown",
   "id": "99ec5b03-0018-4e18-a8ba-fc70db8cb26c",
   "metadata": {},
   "source": [
    "#### Memory Size of List Elements"
   ]
  },
  {
   "cell_type": "code",
   "execution_count": 22,
   "id": "47a2c64c-352c-49b8-bf58-587eaf57644b",
   "metadata": {},
   "outputs": [
    {
     "name": "stdout",
     "output_type": "stream",
     "text": [
      "item: (item), memory size: (sys.getsizeof(item) bytes\n",
      "item: (item), memory size: (sys.getsizeof(item) bytes\n",
      "item: (item), memory size: (sys.getsizeof(item) bytes\n"
     ]
    }
   ],
   "source": [
    "import sys\n",
    "my_list = [1, \"hello\",{1, 2, 3}]\n",
    "for item in my_list:\n",
    "    print(f\"item: (item), memory size: (sys.getsizeof(item) bytes\")"
   ]
  },
  {
   "cell_type": "markdown",
   "id": "9f0b9560-b52f-4744-ba7d-dbfb4a6c721b",
   "metadata": {},
   "source": [
    "### Q No 3 (c) Print Final Name, Data Type and Lowest Memory"
   ]
  },
  {
   "cell_type": "code",
   "execution_count": 27,
   "id": "526f9464-bb9e-4177-b190-ee2c54f291bc",
   "metadata": {},
   "outputs": [
    {
     "name": "stdout",
     "output_type": "stream",
     "text": [
      "The data type with the lowest memory usage is 'NoneType', size: 16 bytes.\n"
     ]
    }
   ],
   "source": [
    "import sys\n",
    "\n",
    "# Common data types\n",
    "data_types = {\n",
    "    \"int\": 0,\n",
    "    \"float\": 0.0,\n",
    "    \"str\": \"\",\n",
    "    \"bool\": True,\n",
    "    \"NoneType\": None,\n",
    "    \"list\": [],\n",
    "    \"tuple\": (),\n",
    "    \"set\": set(),\n",
    "    \"dict\": {},\n",
    "}\n",
    "\n",
    "# Determine the type with the lowest memory\n",
    "lowest_memory_type = min(data_types.items(), key=lambda x: sys.getsizeof(x[1]))\n",
    "print(f\"The data type with the lowest memory usage is '{lowest_memory_type[0]}', size: {sys.getsizeof(lowest_memory_type[1])} bytes.\")\n"
   ]
  },
  {
   "cell_type": "markdown",
   "id": "217c3548-2d17-4cf3-8feb-20fdb611f6d6",
   "metadata": {},
   "source": [
    "### Q No 4 Print Email is Valid or Invalid"
   ]
  },
  {
   "cell_type": "code",
   "execution_count": 32,
   "id": "7a4e7b7b-b7d1-4131-9dfd-5a685eb07760",
   "metadata": {},
   "outputs": [
    {
     "name": "stdin",
     "output_type": "stream",
     "text": [
      "Enter your email:  umairaslam1982@hotmail.com\n"
     ]
    },
    {
     "name": "stdout",
     "output_type": "stream",
     "text": [
      "Valid email format\n"
     ]
    }
   ],
   "source": [
    "import re\n",
    "\n",
    "def validate_email(email):\n",
    "    # Remove @ and . for validation purposes\n",
    "    email_modified = email.replace('@', '').replace('.', '')\n",
    "\n",
    "    # Define a regex pattern for a basic email format validation\n",
    "    email_regex = r\"^[a-zA-Z0-9._%+-]+@[a-zA-Z0-9.-]+\\.[a-zA-Z]{2,}$\"\n",
    "    \n",
    "    if re.match(email_regex, email, re.IGNORECASE):\n",
    "        print(\"Valid email format\")\n",
    "    else:\n",
    "        print(\"Invalid email format\")\n",
    "\n",
    "# User input\n",
    "email = input(\"Enter your email: \")\n",
    "validate_email(email)\n"
   ]
  },
  {
   "cell_type": "markdown",
   "id": "39bcc0a7-fc56-4302-8956-140e62653456",
   "metadata": {},
   "source": [
    "### Q No 5 Data Type, Element Store, Append Data Type in tuple"
   ]
  },
  {
   "cell_type": "code",
   "execution_count": 37,
   "id": "d62d1c2a-d429-4579-94ca-00e0107f00f1",
   "metadata": {},
   "outputs": [
    {
     "name": "stdout",
     "output_type": "stream",
     "text": [
      "[(1, 'int'), (2.5, 'float'), ('hello', 'str'), ([1, 2], 'list'), ((3, 4), 'tuple'), ({'key': 'value'}, 'dict'), (True, 'bool'), (None, 'NoneType'), (42, 'int')]\n"
     ]
    }
   ],
   "source": [
    "# Input list\n",
    "input_list = [1, 2.5, \"hello\", [1, 2], (3, 4), {\"key\": \"value\"}, True, None]\n",
    "\n",
    "# Process the list\n",
    "result = [(item, type(item).__name__) for item in input_list]\n",
    "\n",
    "# Append a new data type\n",
    "new_item = 42  # Example new data\n",
    "result.append((new_item, type(new_item).__name__))\n",
    "\n",
    "# Final output as a list of tuples\n",
    "print(result)\n"
   ]
  },
  {
   "cell_type": "markdown",
   "id": "fe4e37f3-3927-4d64-9efa-0b1f0150f8e7",
   "metadata": {},
   "source": [
    "### Q No 6 Check, Varifies, operator check username exist, operator check check user is admin"
   ]
  },
  {
   "cell_type": "code",
   "execution_count": 1,
   "id": "a920934e-ab68-4d2d-8667-02923c6ef671",
   "metadata": {},
   "outputs": [
    {
     "name": "stdin",
     "output_type": "stream",
     "text": [
      "Enter the username to check:  bob\n"
     ]
    },
    {
     "name": "stdout",
     "output_type": "stream",
     "text": [
      "User 'bob' exists.\n",
      "User 'bob' is not an admin.\n",
      "\n",
      "Final Tuple of Users: (('alice', 'admin'), ('bob', 'user'), ('charlie', 'moderator'), ('dave', 'guest'))\n",
      "Data Types of Each Entry: [<class 'tuple'>, <class 'tuple'>, <class 'tuple'>, <class 'tuple'>]\n"
     ]
    }
   ],
   "source": [
    "# Step 1: List of usernames with roles\n",
    "users = [(\"alice\", \"admin\"), (\"bob\", \"user\"), (\"charlie\", \"moderator\")]\n",
    "\n",
    "# Step 2: Create a list to store data types of each user entry\n",
    "data_types = [type(user) for user in users]\n",
    "\n",
    "# Step 3: Add a new user and append its data type\n",
    "new_user = (\"dave\", \"guest\")\n",
    "users.append(new_user)\n",
    "data_types.append(type(new_user))\n",
    "\n",
    "# Step 4: Convert the final list to a tuple\n",
    "final_output = tuple(users)\n",
    "\n",
    "# Step 5: User checks\n",
    "username_to_check = input(\"Enter the username to check: \").strip().lower()\n",
    "\n",
    "# Check if the username exists\n",
    "if any(username_to_check == user[0] for user in users):\n",
    "    print(f\"User '{username_to_check}' exists.\")\n",
    "else:\n",
    "    print(f\"User '{username_to_check}' does not exist.\")\n",
    "\n",
    "# Check if the user is an admin\n",
    "if any(username_to_check == user[0] and user[1] == \"admin\" for user in users):\n",
    "    print(f\"User '{username_to_check}' is an admin.\")\n",
    "else:\n",
    "    print(f\"User '{username_to_check}' is not an admin.\")\n",
    "\n",
    "# Step 6: Print the outputs\n",
    "print(\"\\nFinal Tuple of Users:\", final_output)\n",
    "print(\"Data Types of Each Entry:\", data_types)\n"
   ]
  },
  {
   "cell_type": "markdown",
   "id": "8928bd0c-bbbc-4f2d-a859-8375e10ddc8f",
   "metadata": {},
   "source": [
    "### Q No 7 Relationship & sibiling Person1, Person2 and person3 "
   ]
  },
  {
   "cell_type": "code",
   "execution_count": 6,
   "id": "f2fef000-d22f-4367-8c32-6591b6859411",
   "metadata": {},
   "outputs": [
    {
     "name": "stdout",
     "output_type": "stream",
     "text": [
      "Person1 and Person2 belong to the same family.\n",
      "Relationship: Siblings\n",
      "Person1 and Person3 are not related.\n",
      "Person1 and Person3 are not cousins.\n"
     ]
    }
   ],
   "source": [
    "# Step 1: Define family data for three persons\n",
    "person1 = {\n",
    "    \"name\": \"Alice\",\n",
    "    \"father_name\": \"John\",\n",
    "    \"mother_name\": \"Emma\",\n",
    "    \"district\": \"Springfield\",\n",
    "    \"family_members\": {\"John\", \"Emma\", \"Bob\", \"Alice\"}\n",
    "}\n",
    "\n",
    "person2 = {\n",
    "    \"name\": \"Bob\",\n",
    "    \"father_name\": \"John\",\n",
    "    \"mother_name\": \"Emma\",\n",
    "    \"district\": \"Springfield\",\n",
    "    \"family_members\": {\"John\", \"Emma\", \"Bob\", \"Alice\"}\n",
    "}\n",
    "\n",
    "person3 = {\n",
    "    \"name\": \"Charlie\",\n",
    "    \"father_name\": \"David\",\n",
    "    \"mother_name\": \"Sophia\",\n",
    "    \"district\": \"Shelbyville\",\n",
    "    \"family_members\": {\"David\", \"Sophia\", \"Charlie\"}\n",
    "}\n",
    "\n",
    "# Step 2: Compare data for person1 and person2\n",
    "if (\n",
    "    person1[\"father_name\"] == person2[\"father_name\"]\n",
    "    and person1[\"mother_name\"] == person2[\"mother_name\"]\n",
    "    and person1[\"district\"] == person2[\"district\"]\n",
    "    and person1[\"family_members\"] == person2[\"family_members\"]\n",
    "):\n",
    "    print(\"Person1 and Person2 belong to the same family.\")\n",
    "    print(\"Relationship: Siblings\")\n",
    "else:\n",
    "    print(\"Person1 and Person2 are not from the same family.\")\n",
    "\n",
    "# Step 3: Check person1 data with person3\n",
    "if (\n",
    "    person1[\"father_name\"] == person3[\"father_name\"]\n",
    "    or person1[\"mother_name\"] == person3[\"mother_name\"]\n",
    "):\n",
    "    print(\"Person1 and Person3 are related.\")\n",
    "else:\n",
    "    print(\"Person1 and Person3 are not related.\")\n",
    "\n",
    "# Step 4: Check if person1 and person3 are cousins\n",
    "if (\n",
    "    person1[\"district\"] == person3[\"district\"]\n",
    "    and person1[\"family_members\"].intersection(person3[\"family_members\"]) == set()\n",
    "):\n",
    "    print(\"Person1 and Person3 are cousins.\")\n",
    "else:\n",
    "    print(\"Person1 and Person3 are not cousins.\")\n"
   ]
  },
  {
   "cell_type": "markdown",
   "id": "397eb571-f7f2-4231-9046-49aaa3284b5a",
   "metadata": {},
   "source": [
    "### Q No 8 Store & Display Books Information"
   ]
  },
  {
   "cell_type": "code",
   "execution_count": 9,
   "id": "fa78efd9-d0c8-406d-806d-3e4ab9d8c3e6",
   "metadata": {},
   "outputs": [
    {
     "name": "stdout",
     "output_type": "stream",
     "text": [
      "Book Details:\n",
      "Title: To Kill a Mockingbird\n",
      "Author: Harper Lee\n",
      "Year of Publication: 1960\n",
      "Price: $18.99\n"
     ]
    }
   ],
   "source": [
    "# Step 1: Create a dictionary to store book details\n",
    "book = {\n",
    "    \"title\": \"To Kill a Mockingbird\",\n",
    "    \"author\": \"Harper Lee\",\n",
    "    \"year_of_publication\": 1960,\n",
    "    \"price\": 18.99\n",
    "}\n",
    "\n",
    "# Step 2: Display the book details\n",
    "print(\"Book Details:\")\n",
    "print(f\"Title: {book['title']}\")\n",
    "print(f\"Author: {book['author']}\")\n",
    "print(f\"Year of Publication: {book['year_of_publication']}\")\n",
    "print(f\"Price: ${book['price']:.2f}\")"
   ]
  },
  {
   "cell_type": "markdown",
   "id": "ab9fb42b-57e5-4511-9804-f424a717cc2c",
   "metadata": {},
   "source": [
    "### Q No 9 Chosen Subject is available "
   ]
  },
  {
   "cell_type": "code",
   "execution_count": 16,
   "id": "c4e7814c-a376-4e65-8716-a97bb929e47d",
   "metadata": {},
   "outputs": [
    {
     "name": "stdin",
     "output_type": "stream",
     "text": [
      "Enter the subject you want to choose:  English\n"
     ]
    },
    {
     "name": "stdout",
     "output_type": "stream",
     "text": [
      "The subject 'English' is available.\n"
     ]
    }
   ],
   "source": [
    "# Step 1: Define the list of available subjects\n",
    "available_subjects = [\"Math\", \"Physics\", \"Chemistry\", \"Biology\", \"English\", \"History\", \"Geography\", \"Computer Science\"]\n",
    "\n",
    "# Step 2: Ask the user to input their chosen subject\n",
    "chosen_subject = input(\"Enter the subject you want to choose: \").strip()\n",
    "\n",
    "# Step 3: Check if the subject is available\n",
    "if chosen_subject in available_subjects:\n",
    "    print(f\"The subject '{chosen_subject}' is available.\")\n",
    "else:\n",
    "    print(f\"The subject '{chosen_subject}' is not available.\")\n"
   ]
  },
  {
   "cell_type": "markdown",
   "id": "3115f8d0-6a13-4ccc-afc5-d13dabc572da",
   "metadata": {},
   "source": [
    "### Q No 10 Tuple Method "
   ]
  },
  {
   "cell_type": "code",
   "execution_count": 19,
   "id": "cefdeec3-e24a-4b84-9c72-b516a892ead0",
   "metadata": {},
   "outputs": [
    {
     "name": "stdin",
     "output_type": "stream",
     "text": [
      "Enter a number to find its first occurrence index:  1\n"
     ]
    },
    {
     "name": "stdout",
     "output_type": "stream",
     "text": [
      "The first occurrence of 1 is at index 0.\n"
     ]
    },
    {
     "name": "stdin",
     "output_type": "stream",
     "text": [
      "\n",
      "Enter a number to count how many times it appears in the tuple:  1\n"
     ]
    },
    {
     "name": "stdout",
     "output_type": "stream",
     "text": [
      "The number 1 appears 3 times in the tuple.\n"
     ]
    }
   ],
   "source": [
    "# Step 1: Create a tuple with multiple integers, including duplicates\n",
    "my_tuple = (1, 2, 3, 4, 5, 1, 2, 3, 4, 1, 5)\n",
    "\n",
    "# Step 2: Prompt the user to input a number index for the first occurrence\n",
    "try:\n",
    "    number_for_index = int(input(\"Enter a number to find its first occurrence index: \"))\n",
    "    first_occurrence_index = my_tuple.index(number_for_index)\n",
    "    print(f\"The first occurrence of {number_for_index} is at index {first_occurrence_index}.\")\n",
    "except ValueError:\n",
    "    print(\"The number you entered does not exist in the tuple.\")\n",
    "\n",
    "# Step 3: Prompt the user to input another number and count how many times it appears\n",
    "number_to_count = int(input(\"\\nEnter a number to count how many times it appears in the tuple: \"))\n",
    "count = my_tuple.count(number_to_count)\n",
    "\n",
    "# Step 4: Display the appropriate message\n",
    "if count > 0:\n",
    "    print(f\"The number {number_to_count} appears {count} times in the tuple.\")\n",
    "else:\n",
    "    print(f\"The number {number_to_count} does not appear in the tuple.\")\n"
   ]
  },
  {
   "cell_type": "markdown",
   "id": "d2fab715-f7a0-4e18-bb18-3ff575f86745",
   "metadata": {},
   "source": [
    "### Q No 11 Hard Working Learners (Not Mandatory)"
   ]
  },
  {
   "cell_type": "code",
   "execution_count": 41,
   "id": "22f588a3-e08c-4397-887e-eff499819c56",
   "metadata": {},
   "outputs": [
    {
     "name": "stdin",
     "output_type": "stream",
     "text": [
      "Enter the current temperature in Celsius:  45\n"
     ]
    },
    {
     "name": "stdout",
     "output_type": "stream",
     "text": [
      "The temperature is hot.\n"
     ]
    }
   ],
   "source": [
    "# Step 1: Ask the user for the current temperature in Celsius\n",
    "temperature = float(input(\"Enter the current temperature in Celsius: \"))\n",
    "\n",
    "# Step 2: Categorize the temperature based on the provided ranges\n",
    "if temperature <= -5:\n",
    "    print(\"The temperature is freezing.\")\n",
    "elif -5 < temperature <= 25:\n",
    "    print(\"The temperature is normal.\")\n",
    "elif temperature > 25:\n",
    "    print(\"The temperature is hot.\")\n"
   ]
  },
  {
   "cell_type": "code",
   "execution_count": null,
   "id": "beb15921-a7f9-497b-afa4-5f36fe3c204c",
   "metadata": {},
   "outputs": [],
   "source": []
  }
 ],
 "metadata": {
  "kernelspec": {
   "display_name": "Python 3 (ipykernel)",
   "language": "python",
   "name": "python3"
  },
  "language_info": {
   "codemirror_mode": {
    "name": "ipython",
    "version": 3
   },
   "file_extension": ".py",
   "mimetype": "text/x-python",
   "name": "python",
   "nbconvert_exporter": "python",
   "pygments_lexer": "ipython3",
   "version": "3.12.7"
  }
 },
 "nbformat": 4,
 "nbformat_minor": 5
}
